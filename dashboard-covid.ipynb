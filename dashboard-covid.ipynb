{
 "cells": [
  {
   "cell_type": "markdown",
   "id": "51271d6d",
   "metadata": {
    "papermill": {
     "duration": 0.008036,
     "end_time": "2025-01-20T22:39:15.194537",
     "exception": false,
     "start_time": "2025-01-20T22:39:15.186501",
     "status": "completed"
    },
    "tags": []
   },
   "source": [
    "# 1. Introdução"
   ]
  },
  {
   "cell_type": "markdown",
   "id": "efc96e88",
   "metadata": {
    "papermill": {
     "duration": 0.005858,
     "end_time": "2025-01-20T22:39:15.206703",
     "exception": false,
     "start_time": "2025-01-20T22:39:15.200845",
     "status": "completed"
    },
    "tags": []
   },
   "source": [
    "### 1.1. TLDR"
   ]
  },
  {
   "cell_type": "markdown",
   "id": "475b8b1b",
   "metadata": {
    "papermill": {
     "duration": 0.005686,
     "end_time": "2025-01-20T22:39:15.218566",
     "exception": false,
     "start_time": "2025-01-20T22:39:15.212880",
     "status": "completed"
    },
    "tags": []
   },
   "source": [
    "* **Dashboard**:\n",
    "    - https://lookerstudio.google.com/reporting/3e2706fd-dd91-4713-b904-1337024950a0\n",
    "\n",
    "* **Fontes**:\n",
    "\n",
    "  - Casos pela Universidade John Hopkins ([link](https://github.com/CSSEGISandData/COVID-19/tree/master/csse_covid_19_data/csse_covid_19_daily_reports))\n",
    "  - Vacinação pela Universidade de Oxford ([link](https://covid.ourworldindata.org/data/owid-covid-data.csv))"
   ]
  },
  {
   "cell_type": "markdown",
   "id": "1a57840f",
   "metadata": {
    "papermill": {
     "duration": 0.005898,
     "end_time": "2025-01-20T22:39:15.230453",
     "exception": false,
     "start_time": "2025-01-20T22:39:15.224555",
     "status": "completed"
    },
    "tags": []
   },
   "source": [
    "### 1.2. Pandemia Coronavírus 2019\n",
    "\n",
    "\"A COVID-19 é uma infecção respiratória aguda causada pelo coronavírus SARS-CoV-2, potencialmente grave, de elevada transmissibilidade e de distribuição global.\"\n",
    "\n",
    "A disponibilidade de dados sobre a evolução de uma pandemia no tempo em determinada região geográfica é fundamental para o seu combate. Com este projeto, foi criado um dashboard de dados para exploração e visualização interativa de dados sobre o avanço de casos e da vacinação no Brasil no ano 2021."
   ]
  },
  {
   "cell_type": "markdown",
   "id": "8c4f1427",
   "metadata": {
    "papermill": {
     "duration": 0.005642,
     "end_time": "2025-01-20T22:39:15.242293",
     "exception": false,
     "start_time": "2025-01-20T22:39:15.236651",
     "status": "completed"
    },
    "tags": []
   },
   "source": [
    "### 1.3. Dados\n",
    "\n",
    "Os dados sobre casos da COVID-19 são compilados pelo centro de ciência de sistemas e engenharia da Universidade Americana John Hopkins. Os dados foram atualizados diariamente desde Janeiro de 2020 até Março de 2023, com uma granularidade temporal de dias e geográfica de regiões de países (estados, condados, etc.). O website do projeto pode ser acessado no neste [link](https://systems.jhu.edu/research/public-health/ncov/). Os dados utilizados para este projeto podem ser encontrados neste diretório do [GitHub](https://github.com/CSSEGISandData/COVID-19/tree/master/csse_covid_19_data/csse_covid_19_daily_reports).\n",
    "\n",
    "Abaixo estão descritos os dados derivados do seu preocessamento:\n",
    "\n",
    "* **date**: data de referência;\n",
    "* **state**: estado;\n",
    "* **country**: país;\n",
    "* **population**: população estimada;\n",
    "* **confirmed**: número acumulado de infectados;\n",
    "* **confirmed_1d**: número diário de infectados;\n",
    "* **confirmed_moving_avg_7d**: média móvel de 7 dias do número diário de infectados;\n",
    "* **confirmed_moving_avg_7d_rate_14d**: média móvel de 7 dias dividido pela média móvel de 7 dias de 14 dias atrás;\n",
    "* **deaths**: número acumulado de mortos;\n",
    "* **deaths_1d**: número diário de mortos;\n",
    "* **deaths_moving_avg_7d**: média móvel de 7 dias do número diário de mortos;\n",
    "* **deaths_moving_avg_7d_rate_14d**: média móvel de 7 dias dividido pela média móvel de 7 dias de 14 dias atrás;\n",
    "* **month**: mês de referência;\n",
    "* **year**: anode referência."
   ]
  },
  {
   "cell_type": "markdown",
   "id": "c8cc65c1",
   "metadata": {
    "papermill": {
     "duration": 0.005626,
     "end_time": "2025-01-20T22:39:15.253919",
     "exception": false,
     "start_time": "2025-01-20T22:39:15.248293",
     "status": "completed"
    },
    "tags": []
   },
   "source": [
    "Os dados sobre vacinação da COVID-19 foram compilados pelo projeto Nosso Mundo em Dados (Our World in Data ou OWID) da Universidade Britânica de Oxford disponível no link https://www.ox.ac.uk/. Os dados são atualizados desde Janeiro de 2020 com uma granularidade temporal de dias e geográfica de países. O website do projeto pode ser acessado no link https://ourworldindata.org/coronavirus.\n",
    "\n",
    "Abaixo estão descritos os dados derivados do seu processamento:\n",
    "\n",
    "* **date**: data de referência;\n",
    "* **country**: país;\n",
    "* **population**: população estimada;\n",
    "* **total**: número acumulado de doses administradas;\n",
    "* **one_shot**: número acumulado de pessoas com uma dose;\n",
    "* **one_shot_perc**: número acumulado relativo de pessoas com uma dose;\n",
    "* **two_shots**: número acumulado de pessoas com duas doses;\n",
    "* **two_shots_perc**: número acumulado relativo de pessoas com duas doses;\n",
    "* **three_shots**: número acumulado de pessoas com três doses;\n",
    "* **month**: mês de referência;\n",
    "* **year**: ano de referência."
   ]
  },
  {
   "cell_type": "markdown",
   "id": "a4d3f43a",
   "metadata": {
    "papermill": {
     "duration": 0.005952,
     "end_time": "2025-01-20T22:39:15.265967",
     "exception": false,
     "start_time": "2025-01-20T22:39:15.260015",
     "status": "completed"
    },
    "tags": []
   },
   "source": [
    "# 2. Análise Exploratória de Dados"
   ]
  },
  {
   "cell_type": "markdown",
   "id": "081ddf78",
   "metadata": {
    "papermill": {
     "duration": 0.005898,
     "end_time": "2025-01-20T22:39:15.278699",
     "exception": false,
     "start_time": "2025-01-20T22:39:15.272801",
     "status": "completed"
    },
    "tags": []
   },
   "source": [
    "### 2.1. Introdução\n",
    "\n",
    "Serão utilizados os seguintes pacotes Python para processar os dados brutos em um formato adequado para o painel para exploração interativa de dados: "
   ]
  },
  {
   "cell_type": "code",
   "execution_count": 1,
   "id": "8dc91d24",
   "metadata": {
    "execution": {
     "iopub.execute_input": "2025-01-20T22:39:15.292437Z",
     "iopub.status.busy": "2025-01-20T22:39:15.291993Z",
     "iopub.status.idle": "2025-01-20T22:39:16.312813Z",
     "shell.execute_reply": "2025-01-20T22:39:16.311650Z"
    },
    "papermill": {
     "duration": 1.030022,
     "end_time": "2025-01-20T22:39:16.314814",
     "exception": false,
     "start_time": "2025-01-20T22:39:15.284792",
     "status": "completed"
    },
    "tags": []
   },
   "outputs": [],
   "source": [
    "import math\n",
    "from typing import Iterator\n",
    "from datetime import datetime, timedelta\n",
    "\n",
    "import numpy as np\n",
    "import pandas as pd"
   ]
  },
  {
   "cell_type": "markdown",
   "id": "4abfa36f",
   "metadata": {
    "papermill": {
     "duration": 0.005767,
     "end_time": "2025-01-20T22:39:16.326818",
     "exception": false,
     "start_time": "2025-01-20T22:39:16.321051",
     "status": "completed"
    },
    "tags": []
   },
   "source": [
    "### 2.2. Casos\n",
    "\n",
    "Para processar os dados de casos da Universidade John Hopkins é necessário iterar um intervalo de tempo, neste caso o ano de 2021, para poder extraí-los:"
   ]
  },
  {
   "cell_type": "code",
   "execution_count": 2,
   "id": "4927a5af",
   "metadata": {
    "execution": {
     "iopub.execute_input": "2025-01-20T22:39:16.340291Z",
     "iopub.status.busy": "2025-01-20T22:39:16.339821Z",
     "iopub.status.idle": "2025-01-20T22:39:16.345140Z",
     "shell.execute_reply": "2025-01-20T22:39:16.344098Z"
    },
    "papermill": {
     "duration": 0.013915,
     "end_time": "2025-01-20T22:39:16.346837",
     "exception": false,
     "start_time": "2025-01-20T22:39:16.332922",
     "status": "completed"
    },
    "tags": []
   },
   "outputs": [],
   "source": [
    "def date_range(start_date: datetime, end_date: datetime) -> Iterator[datetime]:\n",
    "  date_range_days: int = (end_date - start_date).days\n",
    "  for lag in range(date_range_days):\n",
    "    yield start_date + timedelta(lag)\n",
    "\n",
    "start_date = datetime(2021, 1, 1)\n",
    "end_date = datetime(2021, 12, 31)"
   ]
  },
  {
   "cell_type": "markdown",
   "id": "b6d5aeb5",
   "metadata": {
    "papermill": {
     "duration": 0.005843,
     "end_time": "2025-01-20T22:39:16.358893",
     "exception": false,
     "start_time": "2025-01-20T22:39:16.353050",
     "status": "completed"
    },
    "tags": []
   },
   "source": [
    "De forma interativa, serão selecionadas as colunas de interesse e referentes ao Brasil:"
   ]
  },
  {
   "cell_type": "code",
   "execution_count": 3,
   "id": "f5e8127f",
   "metadata": {
    "execution": {
     "iopub.execute_input": "2025-01-20T22:39:16.372085Z",
     "iopub.status.busy": "2025-01-20T22:39:16.371719Z",
     "iopub.status.idle": "2025-01-20T22:40:38.139583Z",
     "shell.execute_reply": "2025-01-20T22:40:38.138646Z"
    },
    "papermill": {
     "duration": 81.776752,
     "end_time": "2025-01-20T22:40:38.141596",
     "exception": false,
     "start_time": "2025-01-20T22:39:16.364844",
     "status": "completed"
    },
    "tags": []
   },
   "outputs": [],
   "source": [
    "cases = None\n",
    "cases_is_empty = True\n",
    "\n",
    "for date in date_range(start_date=start_date, end_date=end_date):\n",
    "\n",
    "  date_str = date.strftime('%m-%d-%Y')\n",
    "  data_source_url = f'https://raw.githubusercontent.com/CSSEGISandData/COVID-19/master/csse_covid_19_data/csse_covid_19_daily_reports/{date_str}.csv'\n",
    "\n",
    "  caso = pd.read_csv(data_source_url, sep=',')\n",
    "\n",
    "  caso = caso.drop(['FIPS', 'Admin2', 'Last_Update', 'Lat', 'Long_', 'Recovered', 'Active', 'Combined_Key', 'Case_Fatality_Ratio'], axis=1)\n",
    "  caso = caso.query('Country_Region == \"Brazil\"').reset_index(drop=True)\n",
    "  caso['Date'] = pd.to_datetime(date.strftime('%Y-%m-%d'))\n",
    "\n",
    "  if cases_is_empty:\n",
    "    cases = caso\n",
    "    cases_is_empty = False\n",
    "  else:\n",
    "    cases = pd.concat([cases, caso], ignore_index=True)"
   ]
  },
  {
   "cell_type": "markdown",
   "id": "3f24c938",
   "metadata": {
    "papermill": {
     "duration": 0.005846,
     "end_time": "2025-01-20T22:40:38.153963",
     "exception": false,
     "start_time": "2025-01-20T22:40:38.148117",
     "status": "completed"
    },
    "tags": []
   },
   "source": [
    "### 2.3. Vacinações\n",
    "\n",
    "Os dados de vacinação estão compilados em um único arquivo, portanto o arquivo bruto será extraído e as colunas de interesse serão selecionadas:"
   ]
  },
  {
   "cell_type": "code",
   "execution_count": 4,
   "id": "88ab9987",
   "metadata": {
    "execution": {
     "iopub.execute_input": "2025-01-20T22:40:38.167289Z",
     "iopub.status.busy": "2025-01-20T22:40:38.166887Z",
     "iopub.status.idle": "2025-01-20T22:40:41.914460Z",
     "shell.execute_reply": "2025-01-20T22:40:41.913281Z"
    },
    "papermill": {
     "duration": 3.756431,
     "end_time": "2025-01-20T22:40:41.916361",
     "exception": false,
     "start_time": "2025-01-20T22:40:38.159930",
     "status": "completed"
    },
    "tags": []
   },
   "outputs": [
    {
     "name": "stderr",
     "output_type": "stream",
     "text": [
      "<ipython-input-4-23750b0156f6>:1: FutureWarning: The argument 'infer_datetime_format' is deprecated and will be removed in a future version. A strict version of it is now the default, see https://pandas.pydata.org/pdeps/0004-consistent-to-datetime-parsing.html. You can safely remove this argument.\n",
      "  vaccines = pd.read_csv('https://covid.ourworldindata.org/data/owid-covid-data.csv', sep=',', parse_dates=[3], infer_datetime_format=True)\n"
     ]
    }
   ],
   "source": [
    "vaccines = pd.read_csv('https://covid.ourworldindata.org/data/owid-covid-data.csv', sep=',', parse_dates=[3], infer_datetime_format=True)\n",
    "\n",
    "vaccines = vaccines.query('location ==\"Brazil\"').reset_index(drop=True)\n",
    "vaccines = vaccines[['location', 'population', 'total_vaccinations', 'people_vaccinated', 'people_fully_vaccinated', 'total_boosters', 'date']]"
   ]
  },
  {
   "cell_type": "markdown",
   "id": "392cacfa",
   "metadata": {
    "papermill": {
     "duration": 0.006043,
     "end_time": "2025-01-20T22:40:41.929389",
     "exception": false,
     "start_time": "2025-01-20T22:40:41.923346",
     "status": "completed"
    },
    "tags": []
   },
   "source": [
    "### 2.4. Wrangling Casos\n",
    "\n",
    "Os dados serão manipulados para que possam ser utilizados no dashboard, garantindo uma boa granularidade e qualidade da base de dados. Primeiramente serão alterados os nomes das colunas, para que sejam facilmente identificadas:"
   ]
  },
  {
   "cell_type": "code",
   "execution_count": 5,
   "id": "1184fdcc",
   "metadata": {
    "execution": {
     "iopub.execute_input": "2025-01-20T22:40:41.943270Z",
     "iopub.status.busy": "2025-01-20T22:40:41.942902Z",
     "iopub.status.idle": "2025-01-20T22:40:41.952864Z",
     "shell.execute_reply": "2025-01-20T22:40:41.951795Z"
    },
    "papermill": {
     "duration": 0.019225,
     "end_time": "2025-01-20T22:40:41.954848",
     "exception": false,
     "start_time": "2025-01-20T22:40:41.935623",
     "status": "completed"
    },
    "tags": []
   },
   "outputs": [],
   "source": [
    "cases = cases.rename(\n",
    "    columns={\n",
    "        'Province_State': 'state',\n",
    "        'Country_Region': 'country'\n",
    "    }\n",
    ")\n",
    "\n",
    "for col in cases.columns:\n",
    "  cases = cases.rename(columns={col: col.lower()})"
   ]
  },
  {
   "cell_type": "markdown",
   "id": "ae790dd6",
   "metadata": {
    "papermill": {
     "duration": 0.005984,
     "end_time": "2025-01-20T22:40:41.967791",
     "exception": false,
     "start_time": "2025-01-20T22:40:41.961807",
     "status": "completed"
    },
    "tags": []
   },
   "source": [
    "São ajustados os nomes dos estados para que possuam os acentos:"
   ]
  },
  {
   "cell_type": "code",
   "execution_count": 6,
   "id": "6722b67c",
   "metadata": {
    "execution": {
     "iopub.execute_input": "2025-01-20T22:40:41.981421Z",
     "iopub.status.busy": "2025-01-20T22:40:41.981035Z",
     "iopub.status.idle": "2025-01-20T22:40:41.991789Z",
     "shell.execute_reply": "2025-01-20T22:40:41.990682Z"
    },
    "papermill": {
     "duration": 0.020077,
     "end_time": "2025-01-20T22:40:41.994075",
     "exception": false,
     "start_time": "2025-01-20T22:40:41.973998",
     "status": "completed"
    },
    "tags": []
   },
   "outputs": [],
   "source": [
    "states_map = {\n",
    "    'Amapa': 'Amapá',\n",
    "    'Ceara': 'Ceará',\n",
    "    'Espirito Santo': 'Espírito Santo',\n",
    "    'Goias': 'Goiás',\n",
    "    'Para': 'Pará',\n",
    "    'Paraiba': 'Paraíba',\n",
    "    'Parana': 'Paraná',\n",
    "    'Piaui': 'Piauí',\n",
    "    'Rondonia': 'Rondônia',\n",
    "    'Sao Paulo': 'São Paulo'\n",
    "}\n",
    "\n",
    "cases['state'] = cases['state'].apply(lambda state: states_map.get(state) if state in states_map.keys() else state)"
   ]
  },
  {
   "cell_type": "markdown",
   "id": "ff09f985",
   "metadata": {
    "papermill": {
     "duration": 0.006219,
     "end_time": "2025-01-20T22:40:42.007073",
     "exception": false,
     "start_time": "2025-01-20T22:40:42.000854",
     "status": "completed"
    },
    "tags": []
   },
   "source": [
    "Para enriquecer a base de dados, serão criadas novas colunas: chaves temporais e população estimada dos estados."
   ]
  },
  {
   "cell_type": "code",
   "execution_count": 7,
   "id": "7b71a4fb",
   "metadata": {
    "execution": {
     "iopub.execute_input": "2025-01-20T22:40:42.020833Z",
     "iopub.status.busy": "2025-01-20T22:40:42.020462Z",
     "iopub.status.idle": "2025-01-20T22:40:42.124070Z",
     "shell.execute_reply": "2025-01-20T22:40:42.122956Z"
    },
    "papermill": {
     "duration": 0.112629,
     "end_time": "2025-01-20T22:40:42.125959",
     "exception": false,
     "start_time": "2025-01-20T22:40:42.013330",
     "status": "completed"
    },
    "tags": []
   },
   "outputs": [],
   "source": [
    "cases['month'] = cases['date'].apply(lambda date: date.strftime('%Y-%m'))\n",
    "cases['year'] = cases['date'].apply(lambda date: date.strftime('%Y'))\n",
    "\n",
    "cases['population'] = round(100000 * (cases['confirmed'] / cases['incident_rate']))\n",
    "cases = cases.drop('incident_rate', axis=1)"
   ]
  },
  {
   "cell_type": "markdown",
   "id": "72bb538b",
   "metadata": {
    "papermill": {
     "duration": 0.006081,
     "end_time": "2025-01-20T22:40:42.138825",
     "exception": false,
     "start_time": "2025-01-20T22:40:42.132744",
     "status": "completed"
    },
    "tags": []
   },
   "source": [
    "São criadas também as colunas de número, média móvel (7 dias) e estabilidade (14 dias) de casos e mortes em cada estado:"
   ]
  },
  {
   "cell_type": "code",
   "execution_count": 8,
   "id": "9dccd35f",
   "metadata": {
    "execution": {
     "iopub.execute_input": "2025-01-20T22:40:42.152730Z",
     "iopub.status.busy": "2025-01-20T22:40:42.152347Z",
     "iopub.status.idle": "2025-01-20T22:40:42.487604Z",
     "shell.execute_reply": "2025-01-20T22:40:42.486379Z"
    },
    "papermill": {
     "duration": 0.344628,
     "end_time": "2025-01-20T22:40:42.489617",
     "exception": false,
     "start_time": "2025-01-20T22:40:42.144989",
     "status": "completed"
    },
    "tags": []
   },
   "outputs": [],
   "source": [
    "cases_ = None\n",
    "cases_is_empty = True\n",
    "\n",
    "def get_trend(rate: float) -> str:\n",
    "  \n",
    "  if np.isnan(rate):\n",
    "    return np.NaN\n",
    "    \n",
    "  if rate < 0.75:\n",
    "    status = 'downward'\n",
    "  elif rate > 1.15:\n",
    "    status = 'upward'\n",
    "  else:\n",
    "    status = 'stable'\n",
    "\n",
    "    return status\n",
    "\n",
    "for state in cases['state'].drop_duplicates():\n",
    "\n",
    "  cases_per_state = cases.query(f'state == \"{state}\"').reset_index(drop=True)\n",
    "  cases_per_state = cases_per_state.sort_values(by=['date'])\n",
    "\n",
    "  cases_per_state['confirmed_1d'] = cases_per_state['confirmed'].diff(periods=1)\n",
    "  cases_per_state['confirmed_moving_avg_7d'] = np.ceil(cases_per_state['confirmed_1d'].rolling(window=7).mean())\n",
    "  cases_per_state['confirmed_moving_avg_7d_rate_14d'] = cases_per_state['confirmed_moving_avg_7d']/cases_per_state['confirmed_moving_avg_7d'].shift(periods=14)\n",
    "  cases_per_state['confirmed_trend'] = cases_per_state['confirmed_moving_avg_7d_rate_14d'].apply(get_trend)\n",
    "\n",
    "  cases_per_state['deaths_1d'] = cases_per_state['deaths'].diff(periods=1)\n",
    "  cases_per_state['deaths_moving_avg_7d'] = np.ceil(cases_per_state['deaths_1d'].rolling(window=7).mean())\n",
    "  cases_per_state['deaths_moving_avg_7d_rate_14d'] = cases_per_state['deaths_moving_avg_7d']/cases_per_state['deaths_moving_avg_7d'].shift(periods=14)\n",
    "  cases_per_state['deaths_trend'] = cases_per_state['deaths_moving_avg_7d_rate_14d'].apply(get_trend)\n",
    "\n",
    "  if cases_is_empty:\n",
    "    cases_ = cases_per_state\n",
    "    cases_is_empty = False\n",
    "  else:\n",
    "    cases_ = pd.concat([cases_, cases_per_state], ignore_index=True)\n",
    "\n",
    "cases = cases_\n",
    "cases_ = None"
   ]
  },
  {
   "cell_type": "markdown",
   "id": "eddadf27",
   "metadata": {
    "papermill": {
     "duration": 0.006083,
     "end_time": "2025-01-20T22:40:42.502451",
     "exception": false,
     "start_time": "2025-01-20T22:40:42.496368",
     "status": "completed"
    },
    "tags": []
   },
   "source": [
    "Para garantir a consistência da base de dados, é feito o type casting das colunas:"
   ]
  },
  {
   "cell_type": "code",
   "execution_count": 9,
   "id": "6c07e2ee",
   "metadata": {
    "execution": {
     "iopub.execute_input": "2025-01-20T22:40:42.517267Z",
     "iopub.status.busy": "2025-01-20T22:40:42.516900Z",
     "iopub.status.idle": "2025-01-20T22:40:42.533430Z",
     "shell.execute_reply": "2025-01-20T22:40:42.532496Z"
    },
    "papermill": {
     "duration": 0.026015,
     "end_time": "2025-01-20T22:40:42.535513",
     "exception": false,
     "start_time": "2025-01-20T22:40:42.509498",
     "status": "completed"
    },
    "tags": []
   },
   "outputs": [],
   "source": [
    "cases['population'] = cases['population'].astype('Int64')\n",
    "cases['confirmed_1d'] = cases['confirmed_1d'].astype('Int64')\n",
    "cases['confirmed_moving_avg_7d'] = cases['confirmed_moving_avg_7d'].astype('Int64')\n",
    "cases['deaths_1d'] = cases['deaths_1d'].astype('Int64')\n",
    "cases['deaths_moving_avg_7d'] = cases['deaths_moving_avg_7d'].astype('Int64')"
   ]
  },
  {
   "cell_type": "markdown",
   "id": "9d0c1be0",
   "metadata": {
    "papermill": {
     "duration": 0.006277,
     "end_time": "2025-01-20T22:40:42.548303",
     "exception": false,
     "start_time": "2025-01-20T22:40:42.542026",
     "status": "completed"
    },
    "tags": []
   },
   "source": [
    "Finalmente, as colunas que serão utilizadas são organizadas no dataframe:"
   ]
  },
  {
   "cell_type": "code",
   "execution_count": 10,
   "id": "4cae86db",
   "metadata": {
    "execution": {
     "iopub.execute_input": "2025-01-20T22:40:42.562496Z",
     "iopub.status.busy": "2025-01-20T22:40:42.562083Z",
     "iopub.status.idle": "2025-01-20T22:40:42.570142Z",
     "shell.execute_reply": "2025-01-20T22:40:42.569012Z"
    },
    "papermill": {
     "duration": 0.017267,
     "end_time": "2025-01-20T22:40:42.572020",
     "exception": false,
     "start_time": "2025-01-20T22:40:42.554753",
     "status": "completed"
    },
    "tags": []
   },
   "outputs": [],
   "source": [
    "cases = cases[['date', 'country', 'state', 'population', 'confirmed', 'confirmed_1d', 'confirmed_moving_avg_7d', 'confirmed_moving_avg_7d_rate_14d', 'confirmed_trend', 'deaths', 'deaths_1d', 'deaths_moving_avg_7d', 'deaths_moving_avg_7d_rate_14d', 'deaths_trend', 'month', 'year']]"
   ]
  },
  {
   "cell_type": "markdown",
   "id": "30250451",
   "metadata": {
    "papermill": {
     "duration": 0.006014,
     "end_time": "2025-01-20T22:40:42.584684",
     "exception": false,
     "start_time": "2025-01-20T22:40:42.578670",
     "status": "completed"
    },
    "tags": []
   },
   "source": [
    "### 2.5. Wrangling Vacinação\n",
    "\n",
    "Primeiramente são tratados os dados faltantes. O intúito é preencher os buracos com o valor anterior válido mais próximo:"
   ]
  },
  {
   "cell_type": "code",
   "execution_count": 11,
   "id": "7cfb9d6a",
   "metadata": {
    "execution": {
     "iopub.execute_input": "2025-01-20T22:40:42.598863Z",
     "iopub.status.busy": "2025-01-20T22:40:42.598489Z",
     "iopub.status.idle": "2025-01-20T22:40:42.607139Z",
     "shell.execute_reply": "2025-01-20T22:40:42.605791Z"
    },
    "papermill": {
     "duration": 0.017686,
     "end_time": "2025-01-20T22:40:42.608673",
     "exception": false,
     "start_time": "2025-01-20T22:40:42.590987",
     "status": "completed"
    },
    "tags": []
   },
   "outputs": [
    {
     "name": "stderr",
     "output_type": "stream",
     "text": [
      "<ipython-input-11-274988f553eb>:1: FutureWarning: DataFrame.fillna with 'method' is deprecated and will raise in a future version. Use obj.ffill() or obj.bfill() instead.\n",
      "  vaccines = vaccines.fillna(method='ffill')\n"
     ]
    }
   ],
   "source": [
    "vaccines = vaccines.fillna(method='ffill')"
   ]
  },
  {
   "cell_type": "markdown",
   "id": "68bfed55",
   "metadata": {
    "papermill": {
     "duration": 0.006335,
     "end_time": "2025-01-20T22:40:42.621595",
     "exception": false,
     "start_time": "2025-01-20T22:40:42.615260",
     "status": "completed"
    },
    "tags": []
   },
   "source": [
    "A base de dados também será filtrada de acordo com a coluna **date**, para garantir que ambas as bases de dados trabalham com o mesmo período de tempo:"
   ]
  },
  {
   "cell_type": "code",
   "execution_count": 12,
   "id": "d7bf6a24",
   "metadata": {
    "execution": {
     "iopub.execute_input": "2025-01-20T22:40:42.636883Z",
     "iopub.status.busy": "2025-01-20T22:40:42.636483Z",
     "iopub.status.idle": "2025-01-20T22:40:42.643208Z",
     "shell.execute_reply": "2025-01-20T22:40:42.642224Z"
    },
    "papermill": {
     "duration": 0.016051,
     "end_time": "2025-01-20T22:40:42.644887",
     "exception": false,
     "start_time": "2025-01-20T22:40:42.628836",
     "status": "completed"
    },
    "tags": []
   },
   "outputs": [],
   "source": [
    "vaccines = vaccines[(vaccines['date'] >= '2021-01-01') & (vaccines['date'] <= '2021-12-31')].reset_index(drop=True)"
   ]
  },
  {
   "cell_type": "markdown",
   "id": "9d014660",
   "metadata": {
    "papermill": {
     "duration": 0.006458,
     "end_time": "2025-01-20T22:40:42.658091",
     "exception": false,
     "start_time": "2025-01-20T22:40:42.651633",
     "status": "completed"
    },
    "tags": []
   },
   "source": [
    "O nome das colunas é alterado para mais facilidade na manipulação dos dados:"
   ]
  },
  {
   "cell_type": "code",
   "execution_count": 13,
   "id": "53e521b9",
   "metadata": {
    "execution": {
     "iopub.execute_input": "2025-01-20T22:40:42.672391Z",
     "iopub.status.busy": "2025-01-20T22:40:42.671987Z",
     "iopub.status.idle": "2025-01-20T22:40:42.677437Z",
     "shell.execute_reply": "2025-01-20T22:40:42.676297Z"
    },
    "papermill": {
     "duration": 0.01459,
     "end_time": "2025-01-20T22:40:42.679093",
     "exception": false,
     "start_time": "2025-01-20T22:40:42.664503",
     "status": "completed"
    },
    "tags": []
   },
   "outputs": [],
   "source": [
    "vaccines = vaccines.rename(\n",
    "    columns={\n",
    "        'location': 'country',\n",
    "        'total_vaccinations': 'total',\n",
    "        'people_vaccinated': 'one_shot',\n",
    "        'people_fully_vaccinated': 'two_shots',\n",
    "        'total_boosters': 'three_shots'\n",
    "    }\n",
    ")"
   ]
  },
  {
   "cell_type": "markdown",
   "id": "76c0bc3b",
   "metadata": {
    "papermill": {
     "duration": 0.00621,
     "end_time": "2025-01-20T22:40:42.692167",
     "exception": false,
     "start_time": "2025-01-20T22:40:42.685957",
     "status": "completed"
    },
    "tags": []
   },
   "source": [
    "São criadas colunas com chaves temporais e dados relativos para enriquecer a base de dados:"
   ]
  },
  {
   "cell_type": "code",
   "execution_count": 14,
   "id": "055a4671",
   "metadata": {
    "execution": {
     "iopub.execute_input": "2025-01-20T22:40:42.706701Z",
     "iopub.status.busy": "2025-01-20T22:40:42.706256Z",
     "iopub.status.idle": "2025-01-20T22:40:42.719706Z",
     "shell.execute_reply": "2025-01-20T22:40:42.718204Z"
    },
    "papermill": {
     "duration": 0.022798,
     "end_time": "2025-01-20T22:40:42.721459",
     "exception": false,
     "start_time": "2025-01-20T22:40:42.698661",
     "status": "completed"
    },
    "tags": []
   },
   "outputs": [],
   "source": [
    "vaccines['month'] = vaccines['date'].apply(lambda date: date.strftime('%Y-%m'))\n",
    "vaccines['year'] = vaccines['date'].apply(lambda date: date.strftime('%Y'))\n",
    "\n",
    "vaccines['one_shot_perc'] = round(vaccines['one_shot'] / vaccines['population'], 4)\n",
    "vaccines['two_shots_perc'] = round(vaccines['two_shots'] / vaccines['population'], 4)\n",
    "vaccines['three_shots_perc'] = round(vaccines['three_shots'] / vaccines['population'], 4)"
   ]
  },
  {
   "cell_type": "markdown",
   "id": "744071f6",
   "metadata": {
    "papermill": {
     "duration": 0.006358,
     "end_time": "2025-01-20T22:40:42.734622",
     "exception": false,
     "start_time": "2025-01-20T22:40:42.728264",
     "status": "completed"
    },
    "tags": []
   },
   "source": [
    "Para garantir a consistência da base de dados, é feito o type casting das colunas:"
   ]
  },
  {
   "cell_type": "code",
   "execution_count": 15,
   "id": "dc955787",
   "metadata": {
    "execution": {
     "iopub.execute_input": "2025-01-20T22:40:42.749080Z",
     "iopub.status.busy": "2025-01-20T22:40:42.748683Z",
     "iopub.status.idle": "2025-01-20T22:40:42.757964Z",
     "shell.execute_reply": "2025-01-20T22:40:42.756948Z"
    },
    "papermill": {
     "duration": 0.018342,
     "end_time": "2025-01-20T22:40:42.759646",
     "exception": false,
     "start_time": "2025-01-20T22:40:42.741304",
     "status": "completed"
    },
    "tags": []
   },
   "outputs": [],
   "source": [
    "vaccines['population'] = vaccines['population'].astype('Int64')\n",
    "vaccines['total'] = vaccines['total'].astype('Int64')\n",
    "vaccines['one_shot'] = vaccines['one_shot'].astype('Int64')\n",
    "vaccines['two_shots'] = vaccines['two_shots'].astype('Int64')\n",
    "vaccines['three_shots'] = vaccines['three_shots'].astype('Int64')"
   ]
  },
  {
   "cell_type": "markdown",
   "id": "d5ff56f9",
   "metadata": {
    "papermill": {
     "duration": 0.006597,
     "end_time": "2025-01-20T22:40:42.773093",
     "exception": false,
     "start_time": "2025-01-20T22:40:42.766496",
     "status": "completed"
    },
    "tags": []
   },
   "source": [
    "Finalmente, as colunas que serão utilizadas são organizadas no dataframe:"
   ]
  },
  {
   "cell_type": "code",
   "execution_count": 16,
   "id": "1ad86afa",
   "metadata": {
    "execution": {
     "iopub.execute_input": "2025-01-20T22:40:42.788644Z",
     "iopub.status.busy": "2025-01-20T22:40:42.788271Z",
     "iopub.status.idle": "2025-01-20T22:40:42.794256Z",
     "shell.execute_reply": "2025-01-20T22:40:42.793195Z"
    },
    "papermill": {
     "duration": 0.015652,
     "end_time": "2025-01-20T22:40:42.796148",
     "exception": false,
     "start_time": "2025-01-20T22:40:42.780496",
     "status": "completed"
    },
    "tags": []
   },
   "outputs": [],
   "source": [
    "vaccines = vaccines[['date', 'country', 'population', 'total', 'one_shot', 'one_shot_perc', 'two_shots', 'two_shots_perc', 'three_shots', 'three_shots_perc', 'month', 'year']]"
   ]
  },
  {
   "cell_type": "markdown",
   "id": "71ee8c2c",
   "metadata": {
    "papermill": {
     "duration": 0.006489,
     "end_time": "2025-01-20T22:40:42.809554",
     "exception": false,
     "start_time": "2025-01-20T22:40:42.803065",
     "status": "completed"
    },
    "tags": []
   },
   "source": [
    "### 2.6. Carregamento\n",
    "\n",
    "Para a persistência dos dados, será feito o download dos dataframes criados para utilização no dashboard:"
   ]
  },
  {
   "cell_type": "code",
   "execution_count": 17,
   "id": "99bd368f",
   "metadata": {
    "execution": {
     "iopub.execute_input": "2025-01-20T22:40:42.824700Z",
     "iopub.status.busy": "2025-01-20T22:40:42.824305Z",
     "iopub.status.idle": "2025-01-20T22:40:42.926161Z",
     "shell.execute_reply": "2025-01-20T22:40:42.925120Z"
    },
    "papermill": {
     "duration": 0.111796,
     "end_time": "2025-01-20T22:40:42.928238",
     "exception": false,
     "start_time": "2025-01-20T22:40:42.816442",
     "status": "completed"
    },
    "tags": []
   },
   "outputs": [],
   "source": [
    "cases.to_csv('./covid-cases.csv', sep=',', index=False)\n",
    "\n",
    "vaccines.to_csv('./covid-vaccines.csv', sep=',', index=False)"
   ]
  }
 ],
 "metadata": {
  "kaggle": {
   "accelerator": "none",
   "dataSources": [],
   "isGpuEnabled": false,
   "isInternetEnabled": true,
   "language": "python",
   "sourceType": "notebook"
  },
  "kernelspec": {
   "display_name": "Python 3",
   "language": "python",
   "name": "python3"
  },
  "language_info": {
   "codemirror_mode": {
    "name": "ipython",
    "version": 3
   },
   "file_extension": ".py",
   "mimetype": "text/x-python",
   "name": "python",
   "nbconvert_exporter": "python",
   "pygments_lexer": "ipython3",
   "version": "3.10.12"
  },
  "papermill": {
   "default_parameters": {},
   "duration": 91.233531,
   "end_time": "2025-01-20T22:40:43.556609",
   "environment_variables": {},
   "exception": null,
   "input_path": "__notebook__.ipynb",
   "output_path": "__notebook__.ipynb",
   "parameters": {},
   "start_time": "2025-01-20T22:39:12.323078",
   "version": "2.6.0"
  }
 },
 "nbformat": 4,
 "nbformat_minor": 5
}
